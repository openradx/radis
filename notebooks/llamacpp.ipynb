{
 "cells": [
  {
   "cell_type": "code",
   "execution_count": null,
   "metadata": {},
   "outputs": [],
   "source": [
    "from openai import OpenAI\n",
    "\n",
    "client = OpenAI(base_url=\"http://localhost:9610/v1\", api_key=\"unnecessary\")\n",
    "\n",
    "grammar = \"\"\"\n",
    "    root ::= Answer\n",
    "    Answer ::= \"Yes\" | \"No\" | \"Unsure\"\n",
    "\"\"\"\n",
    "\n",
    "completion = client.chat.completions.create(\n",
    "    model=\"unnecessary\",\n",
    "    messages=[\n",
    "        {\n",
    "            \"role\": \"system\",\n",
    "            \"content\": \"\"\"\n",
    "                You are a radiology expert doctor. You will be given a radiology report.\n",
    "                You will also be given a question about the report. Answer the\n",
    "                question with just the \"Yes\", \"No\" or \"Unsure\".\n",
    "            \"\"\",\n",
    "        },\n",
    "        {\n",
    "            \"role\": \"user\",\n",
    "            \"content\": \"\"\"\n",
    "            Report:\n",
    "            The patient has a suspected cardiac problem and no pulmonary embolism.\n",
    "\n",
    "            Question:\n",
    "            Does the patient have a pulmonary embolism?\n",
    "\n",
    "            Answer:\n",
    "            \"\"\",\n",
    "        },\n",
    "    ],\n",
    "    extra_body={\"grammar\": grammar},\n",
    ")\n",
    "\n",
    "print(completion.choices[0].message)"
   ]
  },
  {
   "cell_type": "code",
   "execution_count": null,
   "metadata": {},
   "outputs": [],
   "source": [
    "import openai\n",
    "from pydantic import BaseModel\n",
    "import logging\n",
    "\n",
    "logging.basicConfig(level=logging.DEBUG)\n",
    "\n",
    "class Output(BaseModel):\n",
    "    content: str\n",
    "    time: float\n",
    "\n",
    "client = openai.OpenAI(\n",
    "    base_url=f\"http://localhost:8080/v1\", api_key=\"foobar\"\n",
    ")\n",
    "\n",
    "response = client.beta.chat.completions.parse(\n",
    "  model=\"smollm2:135m\",\n",
    "  messages=[\n",
    "    {\"role\": \"system\", \"content\": \"Provide output in JSON.\"},\n",
    "    {\"role\": \"user\", \"content\": \"Provide content and time.\"},\n",
    "  ],\n",
    "  response_format=Output,\n",
    ")\n",
    "response.choices[0].message.parsed\n"
   ]
  },
  {
   "cell_type": "code",
   "execution_count": null,
   "metadata": {},
   "outputs": [],
   "source": []
  }
 ],
 "metadata": {
  "kernelspec": {
   "display_name": ".venv",
   "language": "python",
   "name": "python3"
  },
  "language_info": {
   "codemirror_mode": {
    "name": "ipython",
    "version": 3
   },
   "file_extension": ".py",
   "mimetype": "text/x-python",
   "name": "python",
   "nbconvert_exporter": "python",
   "pygments_lexer": "ipython3",
   "version": "3.13.1"
  }
 },
 "nbformat": 4,
 "nbformat_minor": 2
}
