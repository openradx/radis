{
 "cells": [
  {
   "cell_type": "code",
   "execution_count": 1,
   "metadata": {},
   "outputs": [],
   "source": [
    "from datetime import date, datetime\n",
    "\n",
    "import requests\n",
    "from dotenv import dotenv_values\n",
    "from IPython.display import display\n",
    "\n",
    "from radis_client import RadisClient\n",
    "\n",
    "config = dotenv_values(\"../.env\")\n",
    "server_url = config[\"RADIS_SERVER_URL\"]\n",
    "auth_token = config[\"RADIS_AUTH_TOKEN\"]\n",
    "assert server_url\n",
    "assert auth_token\n",
    "\n",
    "client = RadisClient(server_url, auth_token)\n",
    "\n",
    "document_id = \"gepacs_3dfidii5858-6633i4-ii398841\""
   ]
  },
  {
   "cell_type": "code",
   "execution_count": 2,
   "metadata": {},
   "outputs": [
    {
     "name": "stdout",
     "output_type": "stream",
     "text": [
      "Success: 201\n"
     ]
    },
    {
     "data": {
      "text/plain": [
       "{'id': 107,\n",
       " 'document_id': 'gepacs_3dfidii5858-6633i4-ii398841',\n",
       " 'pacs_aet': 'gepacs',\n",
       " 'pacs_name': 'GE PACS',\n",
       " 'patient_id': '1234578',\n",
       " 'patient_birth_date': '1976-05-23',\n",
       " 'patient_sex': 'M',\n",
       " 'study_instance_uid': '34343-34343-34343',\n",
       " 'accession_number': '345348389',\n",
       " 'study_description': 'CT of the Thorax',\n",
       " 'study_datetime': '2000-08-10T00:00:00+02:00',\n",
       " 'series_instance_uid': '34343-676556-3343',\n",
       " 'modalities_in_study': ['CT', 'PET'],\n",
       " 'sop_instance_uid': '35858-384834-3843',\n",
       " 'links': ['http://gepacs.com/34343-34343-34343'],\n",
       " 'body': 'This is the report',\n",
       " 'groups': [2]}"
      ]
     },
     "metadata": {},
     "output_type": "display_data"
    }
   ],
   "source": [
    "try:\n",
    "    response = client.add_report(\n",
    "        {\n",
    "            \"document_id\": document_id,\n",
    "            \"groups\": [2],\n",
    "            \"pacs_aet\": \"gepacs\",\n",
    "            \"pacs_name\": \"GE PACS\",\n",
    "            \"patient_id\": \"1234578\",\n",
    "            \"patient_birth_date\": date(1976, 5, 23).isoformat(),\n",
    "            \"patient_sex\": \"M\",\n",
    "            \"study_instance_uid\": \"34343-34343-34343\",\n",
    "            \"accession_number\": \"345348389\",\n",
    "            \"study_description\": \"CT of the Thorax\",\n",
    "            \"study_datetime\": datetime(2000, 8, 10).isoformat(),\n",
    "            \"modalities_in_study\": [\"CT\", \"PET\"],\n",
    "            \"series_instance_uid\": \"34343-676556-3343\",\n",
    "            \"sop_instance_uid\": \"35858-384834-3843\",\n",
    "            \"links\": [\"http://gepacs.com/34343-34343-34343\"],\n",
    "            \"body\": \"This is the report\",\n",
    "        }\n",
    "    )\n",
    "    print(f\"Success: {response.status_code}\")\n",
    "    display(response.json())\n",
    "except requests.exceptions.HTTPError as e:\n",
    "    print(f\"Error: {e.response.status_code}\")\n",
    "    display(e.response.json())"
   ]
  },
  {
   "cell_type": "code",
   "execution_count": 3,
   "metadata": {},
   "outputs": [
    {
     "name": "stdout",
     "output_type": "stream",
     "text": [
      "Success: 200\n"
     ]
    },
    {
     "data": {
      "text/plain": [
       "{'id': 107,\n",
       " 'document_id': 'gepacs_3dfidii5858-6633i4-ii398841',\n",
       " 'pacs_aet': 'gepacs',\n",
       " 'pacs_name': 'GE PACS',\n",
       " 'patient_id': '1234578',\n",
       " 'patient_birth_date': '1976-05-23',\n",
       " 'patient_sex': 'M',\n",
       " 'study_instance_uid': '34343-34343-34343',\n",
       " 'accession_number': '345348389',\n",
       " 'study_description': 'CT of the Thorax',\n",
       " 'study_datetime': '2000-08-10T00:00:00+02:00',\n",
       " 'series_instance_uid': '34343-676556-3343',\n",
       " 'modalities_in_study': ['CT', 'PET'],\n",
       " 'sop_instance_uid': '35858-384834-3843',\n",
       " 'links': ['http://gepacs.com/34343-34343-34343'],\n",
       " 'body': 'This is the report',\n",
       " 'groups': [2],\n",
       " 'documents': {'vespa': {'pathId': '/document/v1/report/report/docid/gepacs_3dfidii5858-6633i4-ii398841',\n",
       "   'id': 'id:report:report::gepacs_3dfidii5858-6633i4-ii398841',\n",
       "   'fields': {'pacs_name': 'GE PACS',\n",
       "    'modalities_in_study': ['CT', 'PET'],\n",
       "    'patient_birth_date': 201657600,\n",
       "    'body': 'This is the report',\n",
       "    'patient_sex': 'M',\n",
       "    'study_description': 'CT of the Thorax',\n",
       "    'groups': [2],\n",
       "    'links': ['http://gepacs.com/34343-34343-34343'],\n",
       "    'pacs_aet': 'gepacs',\n",
       "    'study_datetime': 965858400}}}}"
      ]
     },
     "metadata": {},
     "output_type": "display_data"
    }
   ],
   "source": [
    "try:\n",
    "    response = client.retrieve_report(document_id, full=True)\n",
    "    print(f\"Success: {response.status_code}\")\n",
    "    display(response.json())\n",
    "except requests.exceptions.HTTPError as e:\n",
    "    print(f\"Error: {e.response.status_code}\")\n",
    "    display(e.response.json())"
   ]
  },
  {
   "cell_type": "code",
   "execution_count": 4,
   "metadata": {},
   "outputs": [
    {
     "name": "stdout",
     "output_type": "stream",
     "text": [
      "Success: 200\n"
     ]
    },
    {
     "data": {
      "text/plain": [
       "{'id': 107,\n",
       " 'document_id': 'gepacs_3dfidii5858-6633i4-ii398841',\n",
       " 'pacs_aet': 'gepacs',\n",
       " 'pacs_name': 'GE PACS',\n",
       " 'patient_id': '1234578',\n",
       " 'patient_birth_date': '1976-05-23',\n",
       " 'patient_sex': 'M',\n",
       " 'study_instance_uid': '34343-34343-34343',\n",
       " 'accession_number': '345348389',\n",
       " 'study_description': 'CT of the Thorax',\n",
       " 'study_datetime': '2000-08-10T00:00:00+02:00',\n",
       " 'series_instance_uid': '34343-676556-3343',\n",
       " 'modalities_in_study': ['CT', 'PET'],\n",
       " 'sop_instance_uid': '35858-384834-3843',\n",
       " 'links': ['http://gepacs.com/34343-34343-34343'],\n",
       " 'body': 'This is the report (updated)',\n",
       " 'groups': [2]}"
      ]
     },
     "metadata": {},
     "output_type": "display_data"
    }
   ],
   "source": [
    "try:\n",
    "    response = client.update_report(\n",
    "        document_id,\n",
    "        {\n",
    "            \"document_id\": document_id,\n",
    "            \"groups\": [2],\n",
    "            \"pacs_aet\": \"gepacs\",\n",
    "            \"pacs_name\": \"GE PACS\",\n",
    "            \"patient_id\": \"1234578\",\n",
    "            \"patient_birth_date\": date(1976, 5, 23).isoformat(),\n",
    "            \"patient_sex\": \"M\",\n",
    "            \"study_instance_uid\": \"34343-34343-34343\",\n",
    "            \"accession_number\": \"345348389\",\n",
    "            \"study_description\": \"CT of the Thorax\",\n",
    "            \"study_datetime\": datetime(2000, 8, 10).isoformat(),\n",
    "            \"series_instance_uid\": \"34343-676556-3343\",\n",
    "            \"modalities_in_study\": [\"CT\", \"PET\"],\n",
    "            \"sop_instance_uid\": \"35858-384834-3843\",\n",
    "            \"links\": [\"http://gepacs.com/34343-34343-34343\"],\n",
    "            \"body\": \"This is the report (updated)\",\n",
    "        },\n",
    "    )\n",
    "    print(f\"Success: {response.status_code}\")\n",
    "    display(response.json())\n",
    "except requests.exceptions.HTTPError as e:\n",
    "    print(f\"Error: {e.response.status_code}\")\n",
    "    display(e.response.json())"
   ]
  },
  {
   "cell_type": "code",
   "execution_count": 5,
   "metadata": {},
   "outputs": [
    {
     "name": "stdout",
     "output_type": "stream",
     "text": [
      "Success: 204\n"
     ]
    }
   ],
   "source": [
    "try:\n",
    "    response = client.delete_report(document_id)\n",
    "    print(f\"Success: {response.status_code}\")\n",
    "except requests.exceptions.HTTPError as e:\n",
    "    print(f\"Error: {e.response.status_code}\")\n",
    "    display(e.response.json())"
   ]
  }
 ],
 "metadata": {
  "kernelspec": {
   "display_name": ".venv",
   "language": "python",
   "name": "python3"
  },
  "language_info": {
   "codemirror_mode": {
    "name": "ipython",
    "version": 3
   },
   "file_extension": ".py",
   "mimetype": "text/x-python",
   "name": "python",
   "nbconvert_exporter": "python",
   "pygments_lexer": "ipython3",
   "version": "3.12.1"
  }
 },
 "nbformat": 4,
 "nbformat_minor": 2
}
